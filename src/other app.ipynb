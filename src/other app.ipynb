{
 "cells": [
  {
   "attachments": {},
   "cell_type": "markdown",
   "metadata": {},
   "source": [
    "CARGA LAS LIBRERIAS"
   ]
  },
  {
   "cell_type": "code",
   "execution_count": 1,
   "metadata": {},
   "outputs": [
    {
     "ename": "ModuleNotFoundError",
     "evalue": "No module named 'dotenv'",
     "output_type": "error",
     "traceback": [
      "\u001b[1;31m---------------------------------------------------------------------------\u001b[0m",
      "\u001b[1;31mModuleNotFoundError\u001b[0m                       Traceback (most recent call last)",
      "Cell \u001b[1;32mIn[1], line 4\u001b[0m\n\u001b[0;32m      2\u001b[0m \u001b[39mfrom\u001b[39;00m \u001b[39msqlalchemy\u001b[39;00m \u001b[39mimport\u001b[39;00m create_engine\n\u001b[0;32m      3\u001b[0m \u001b[39mimport\u001b[39;00m \u001b[39mpandas\u001b[39;00m \u001b[39mas\u001b[39;00m \u001b[39mpd\u001b[39;00m\n\u001b[1;32m----> 4\u001b[0m \u001b[39mfrom\u001b[39;00m \u001b[39mdotenv\u001b[39;00m \u001b[39mimport\u001b[39;00m load_dotenv\n",
      "\u001b[1;31mModuleNotFoundError\u001b[0m: No module named 'dotenv'"
     ]
    }
   ],
   "source": [
    "import os\n",
    "from sqlalchemy import create_engine\n",
    "import pandas as pd\n",
    "from dotenv import load_dotenv\n"
   ]
  },
  {
   "cell_type": "code",
   "execution_count": null,
   "metadata": {},
   "outputs": [],
   "source": [
    "# Cargar las variables del archivo .env\n",
    "load_dotenv()"
   ]
  },
  {
   "cell_type": "code",
   "execution_count": null,
   "metadata": {},
   "outputs": [],
   "source": [
    "# Datos de conexión a la base de datos\n",
    "host = 'localhost'\n",
    "port = '3306'\n",
    "username = 'gitpod'\n",
    "password = 'postgres'"
   ]
  },
  {
   "cell_type": "code",
   "execution_count": null,
   "metadata": {},
   "outputs": [],
   "source": [
    "# Establecer conexión con PostgreSQL utilizando SQLAlchemy\n",
    "\n",
    "#1º Necesitamos una cadena de conexion que nos diga:\n",
    "    #1º Donde queremos conectarnos (postgresql)\n",
    "    #2º datos de nuestra conexión.\n",
    "    \n",
    "connection_string = f\"postgresql://{username}:{password}@{host}:{port}/postgres\"    #->define una cadena de conexión que contiene información como:\n",
    "                                                                                    #->el nombre de usuario, la contraseña, el host y el puerto para conectarse a la base de datos\n",
    "\n",
    "#2º                                                                                     \n",
    "engine = create_engine(connection_string)                                           #->tiliza la función create_engine del módulo sqlalchemy \n",
    "                                                                                    #->para crear un objeto engine utilizando la cadena de conexión.\n",
    "                                                                                        #->Este objeto engine se puede utilizar para interactuar con la base de datos\n"
   ]
  },
  {
   "attachments": {},
   "cell_type": "markdown",
   "metadata": {},
   "source": [
    " EXPLICACION DE : engine = create_engine(connection_string)\n",
    " \n",
    "Imagina que quieres hablar con un amigo que vive en otra casa. Para hacerlo, necesitas su dirección y un teléfono para llamarlo. \n",
    "\n",
    "La línea engine = create_engine(connection_string):\n",
    "    -es como tener el teléfono de tu amigo y marcar su número. \n",
    "    -En este caso:\n",
    "        -el “amigo” es una base de datos\n",
    "        -la “dirección” es la información en connection_string.\n",
    "    -Cuando marcas el número, puedes empezar a hablar con tu amigo.\n",
    "        -De manera similar, cuando se ejecuta esta línea de código, se crea una conexión con la base de datos para que puedas empezar a trabajar con ella."
   ]
  },
  {
   "attachments": {},
   "cell_type": "markdown",
   "metadata": {},
   "source": [
    "Este código es como una receta para hacer un pastel, pero en lugar de un pastel, estamos haciendo una caja nueva para guardar cosas. Primero, le damos un nombre a la caja nueva. Luego, seguimos los pasos de la receta para hacer la caja utilizando el nombre que le dimos. Cuando terminamos, decimos “¡Hurra! Hicimos una caja nueva para guardar cosas”. Si algo sale mal mientras hacemos la caja, decimos “Oh no, algo salió mal”. ¿Te queda más claro ahora? 😊"
   ]
  },
  {
   "cell_type": "code",
   "execution_count": null,
   "metadata": {},
   "outputs": [],
   "source": [
    "# Nombre de la nueva base de datos que deseas crear\n",
    "new_db_name = 'nueva_base_de_datos'                                     #-> Nombre de la base de datos\n",
    "\n",
    "# Comando SQL para crear la base de datos\n",
    "create_db_query = f\"CREATE DATABASE {new_db_name}\"                      #-> Mediante este codigo creamos un DATABASE partiendo de el nombre de nuestra nueva base de datos \n",
    "\n",
    "    # Conectarse a PostgreSQL\n",
    "with engine.connect() as connection:                                    #-> El método connect() del objeto engine se utiliza para establecer una conexión con la base de datos.\n",
    "                                                                        #-> with para asegurar que la conexión se cierre correctamente después de su uso\n",
    "        # Ejecutar el comando SQL para crear la base de datos\n",
    "        connection.execute(create_db_query)                             #-> Dentro del bloque with\n",
    "                                                                            #-> se ejecuta el comando SQL almacenado en la variable create_db_query\n",
    "                                                                            #-> utilizando el método execute() del objeto connection\n",
    "\n",
    "print(f\"La base de datos '{new_db_name}' ha sido creada exitosamente.\")\n",
    "\n",
    "\n",
    "print(\"Error al crear la base de datos:\", str(e))"
   ]
  },
  {
   "cell_type": "code",
   "execution_count": null,
   "metadata": {},
   "outputs": [],
   "source": [
    "# Establecer conexión con la nueva base de datos\n",
    "new_connection_string = f\"postgresql://{username}:{password}@{host}:{port}/{new_db_name}\"\n",
    "engine = create_engine(new_connection_string)"
   ]
  },
  {
   "cell_type": "code",
   "execution_count": null,
   "metadata": {},
   "outputs": [],
   "source": [
    "# 2) Ejecutar las sentencias SQL para crear las tablas utilizando la función execute de SQLAlchemy\n",
    "\n",
    "\n",
    "create_tables_query = \"\"\"\n",
    "CREATE TABLE IF NOT EXISTS publishers(\n",
    "    publisher_id INT NOT NULL,\n",
    "    name VARCHAR(255) NOT NULL,\n",
    "    PRIMARY KEY(publisher_id)\n",
    ");\n",
    "\n",
    "CREATE TABLE IF NOT EXISTS authors(\n",
    "    author_id INT NOT NULL,\n",
    "    first_name VARCHAR(100) NOT NULL,\n",
    "    middle_name VARCHAR(50) NULL,\n",
    "    last_name VARCHAR(100) NULL,\n",
    "    PRIMARY KEY(author_id)\n",
    ");\n",
    "\n",
    "CREATE TABLE IF NOT EXISTS books(\n",
    "    book_id INT NOT NULL,\n",
    "    title VARCHAR(255) NOT NULL,\n",
    "    total_pages INT NULL,\n",
    "    rating DECIMAL(4, 2) NULL,\n",
    "    isbn VARCHAR(13) NULL,\n",
    "    published_date DATE,\n",
    "    publisher_id INT NULL,\n",
    "    PRIMARY KEY(book_id),\n",
    "    CONSTRAINT fk_publisher FOREIGN KEY(publisher_id) REFERENCES publishers(publisher_id)\n",
    ");\n",
    "\n",
    "CREATE TABLE IF NOT EXISTS book_authors (\n",
    "    book_id INT NOT NULL,\n",
    "    author_id INT NOT NULL,\n",
    "    PRIMARY KEY(book_id, author_id),\n",
    "    CONSTRAINT fk_book FOREIGN KEY(book_id) REFERENCES books(book_id) ON DELETE CASCADE,\n",
    "    CONSTRAINT fk_author FOREIGN KEY(author_id) REFERENCES authors(author_id) ON DELETE CASCADE\n",
    ");\n",
    "\"\"\"\n",
    "\n",
    "engine.execute(create_tables_query)\n"
   ]
  },
  {
   "cell_type": "code",
   "execution_count": null,
   "metadata": {},
   "outputs": [],
   "source": [
    "\n",
    "# 3) Ejecutar las sentencias SQL para insertar los datos utilizando la función execute de SQLAlchemy\n",
    "insert_data_query = \"INSERT INTO publishers(publisher_id, name) VALUES (33, 'quiensabe');\"\n",
    "engine.execute(insert_data_query)\n",
    "\n",
    "# 4) Utilizar pandas para imprimir una de las tablas como DataFrame utilizando la función read_sql\n",
    "table_name = \"publishers\"\n",
    "df = pd.read_sql(f\"SELECT * FROM {table_name}\", engine)\n",
    "\n",
    "# Imprimir el DataFrame\n",
    "print(df)"
   ]
  }
 ],
 "metadata": {
  "kernelspec": {
   "display_name": "base",
   "language": "python",
   "name": "python3"
  },
  "language_info": {
   "codemirror_mode": {
    "name": "ipython",
    "version": 3
   },
   "file_extension": ".py",
   "mimetype": "text/x-python",
   "name": "python",
   "nbconvert_exporter": "python",
   "pygments_lexer": "ipython3",
   "version": "3.10.9"
  },
  "orig_nbformat": 4
 },
 "nbformat": 4,
 "nbformat_minor": 2
}
